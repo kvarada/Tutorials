{
  "nbformat": 4,
  "nbformat_minor": 0,
  "metadata": {
    "colab": {
      "name": "1.0-vk-classification-universal-sentence-encoding.ipynb",
      "provenance": [],
      "collapsed_sections": []
    },
    "kernelspec": {
      "name": "python3",
      "display_name": "Python 3"
    },
    "accelerator": "GPU"
  },
  "cells": [
    {
      "cell_type": "markdown",
      "metadata": {
        "id": "AeKhP1S_cjbz",
        "colab_type": "text"
      },
      "source": [
        "### This notebook is heavily based on [this tutorial](https://www.tensorflow.org/hub/tutorials/tf2_text_classification). Below is the copyright info. "
      ]
    },
    {
      "cell_type": "code",
      "metadata": {
        "id": "3BMDYsNsc40i",
        "colab_type": "code",
        "colab": {}
      },
      "source": [
        "#\n",
        "# Copyright (c) 2017 François Chollet\n",
        "#\n",
        "# Permission is hereby granted, free of charge, to any person obtaining a\n",
        "# copy of this software and associated documentation files (the \"Software\"),\n",
        "# to deal in the Software without restriction, including without limitation\n",
        "# the rights to use, copy, modify, merge, publish, distribute, sublicense,\n",
        "# and/or sell copies of the Software, and to permit persons to whom the\n",
        "# Software is furnished to do so, subject to the following conditions:\n",
        "#\n",
        "# The above copyright notice and this permission notice shall be included in\n",
        "# all copies or substantial portions of the Software.\n",
        "#\n",
        "# THE SOFTWARE IS PROVIDED \"AS IS\", WITHOUT WARRANTY OF ANY KIND, EXPRESS OR\n",
        "# IMPLIED, INCLUDING BUT NOT LIMITED TO THE WARRANTIES OF MERCHANTABILITY,\n",
        "# FITNESS FOR A PARTICULAR PURPOSE AND NONINFRINGEMENT. IN NO EVENT SHALL\n",
        "# THE AUTHORS OR COPYRIGHT HOLDERS BE LIABLE FOR ANY CLAIM, DAMAGES OR OTHER\n",
        "# LIABILITY, WHETHER IN AN ACTION OF CONTRACT, TORT OR OTHERWISE, ARISING\n",
        "# FROM, OUT OF OR IN CONNECTION WITH THE SOFTWARE OR THE USE OR OTHER\n",
        "# DEALINGS IN THE SOFTWARE."
      ],
      "execution_count": 0,
      "outputs": []
    },
    {
      "cell_type": "code",
      "metadata": {
        "id": "GXFv57yGx4-3",
        "colab_type": "code",
        "outputId": "1c21fa45-b87e-4694-e45c-f95b5e122860",
        "colab": {
          "base_uri": "https://localhost:8080/",
          "height": 34
        }
      },
      "source": [
        "from absl import logging\n",
        "\n",
        "import tensorflow as tf\n",
        "\n",
        "import tensorflow_hub as hub\n",
        "import matplotlib.pyplot as plt\n",
        "import numpy as np\n",
        "import os\n",
        "import pandas as pd\n",
        "import re\n",
        "import seaborn as sns\n",
        "import tensorflow_datasets as tfds\n",
        "from tensorflow.keras import Input, layers\n",
        "from tensorflow.keras.models import Model\n",
        "\n",
        "module_url = \"https://tfhub.dev/google/universal-sentence-encoder/4\" #@param [\"https://tfhub.dev/google/universal-sentence-encoder/4\", \"https://tfhub.dev/google/universal-sentence-encoder-large/5\"]\n",
        "model = hub.load(module_url)\n",
        "print (\"module %s loaded\" % module_url)\n",
        "def embed(input):\n",
        "  return model(input)"
      ],
      "execution_count": 35,
      "outputs": [
        {
          "output_type": "stream",
          "text": [
            "module https://tfhub.dev/google/universal-sentence-encoder/4 loaded\n"
          ],
          "name": "stdout"
        }
      ]
    },
    {
      "cell_type": "code",
      "metadata": {
        "id": "xQPzNngbyhGZ",
        "colab_type": "code",
        "colab": {}
      },
      "source": [
        "train_data, test_data = tfds.load(name=\"imdb_reviews\", split=[\"train\", \"test\"], \n",
        "                                  batch_size=-1, as_supervised=True)\n",
        "\n",
        "X_train, y_train = tfds.as_numpy(train_data)\n",
        "X_test, y_test = tfds.as_numpy(test_data)"
      ],
      "execution_count": 0,
      "outputs": []
    },
    {
      "cell_type": "code",
      "metadata": {
        "id": "D9vxNuvQzWNx",
        "colab_type": "code",
        "outputId": "ab571fe0-3090-4d47-9cee-b3ed0ce4eb08",
        "colab": {
          "base_uri": "https://localhost:8080/",
          "height": 34
        }
      },
      "source": [
        "print(\"Training entries: {}, test entries: {}\".format(len(X_train), len(X_test)))\n"
      ],
      "execution_count": 37,
      "outputs": [
        {
          "output_type": "stream",
          "text": [
            "Training entries: 25000, test entries: 25000\n"
          ],
          "name": "stdout"
        }
      ]
    },
    {
      "cell_type": "code",
      "metadata": {
        "id": "-wUt_dbDztV8",
        "colab_type": "code",
        "outputId": "cf5f27de-d2d6-46e9-eef2-2042f5d698db",
        "colab": {
          "base_uri": "https://localhost:8080/",
          "height": 87
        }
      },
      "source": [
        "X_train[:2]"
      ],
      "execution_count": 38,
      "outputs": [
        {
          "output_type": "execute_result",
          "data": {
            "text/plain": [
              "array([b\"This was an absolutely terrible movie. Don't be lured in by Christopher Walken or Michael Ironside. Both are great actors, but this must simply be their worst role in history. Even their great acting could not redeem this movie's ridiculous storyline. This movie is an early nineties US propaganda piece. The most pathetic scenes were those when the Columbian rebels were making their cases for revolutions. Maria Conchita Alonso appeared phony, and her pseudo-love affair with Walken was nothing but a pathetic emotional plug in a movie that was devoid of any real meaning. I am disappointed that there are movies like this, ruining actor's like Christopher Walken's good name. I could barely sit through it.\",\n",
              "       b'I have been known to fall asleep during films, but this is usually due to a combination of things including, really tired, being warm and comfortable on the sette and having just eaten a lot. However on this occasion I fell asleep because the film was rubbish. The plot development was constant. Constantly slow and boring. Things seemed to happen, but with no explanation of what was causing them or why. I admit, I may have missed part of the film, but i watched the majority of it and everything just seemed to happen of its own accord without any real concern for anything else. I cant recommend this film at all.'],\n",
              "      dtype=object)"
            ]
          },
          "metadata": {
            "tags": []
          },
          "execution_count": 38
        }
      ]
    },
    {
      "cell_type": "code",
      "metadata": {
        "id": "syulgRTVz1nT",
        "colab_type": "code",
        "outputId": "aac8f8cc-3087-4d9a-f27c-6c59ee044592",
        "colab": {
          "base_uri": "https://localhost:8080/",
          "height": 34
        }
      },
      "source": [
        "y_train"
      ],
      "execution_count": 39,
      "outputs": [
        {
          "output_type": "execute_result",
          "data": {
            "text/plain": [
              "array([0, 0, 0, ..., 0, 0, 1])"
            ]
          },
          "metadata": {
            "tags": []
          },
          "execution_count": 39
        }
      ]
    },
    {
      "cell_type": "code",
      "metadata": {
        "id": "CHmS40O81PYJ",
        "colab_type": "code",
        "colab": {}
      },
      "source": [
        "### Use embeddings given by universal sentence encoder \n",
        "model = hub.load(\"https://tfhub.dev/google/universal-sentence-encoder/4\")\n",
        "hub_layer = hub.KerasLayer(model, output_shape=[512], input_shape=[], \n",
        "                           dtype=tf.string, trainable=True)"
      ],
      "execution_count": 0,
      "outputs": []
    },
    {
      "cell_type": "code",
      "metadata": {
        "id": "lJwgWN2c-ao-",
        "colab_type": "code",
        "outputId": "1090d914-91e0-4edd-871a-a498768c6780",
        "colab": {
          "base_uri": "https://localhost:8080/",
          "height": 34
        }
      },
      "source": [
        "hub_layer(X_train[:3]).shape"
      ],
      "execution_count": 41,
      "outputs": [
        {
          "output_type": "execute_result",
          "data": {
            "text/plain": [
              "TensorShape([3, 512])"
            ]
          },
          "metadata": {
            "tags": []
          },
          "execution_count": 41
        }
      ]
    },
    {
      "cell_type": "code",
      "metadata": {
        "id": "4YZFBbkXehEN",
        "colab_type": "code",
        "outputId": "bf2528df-21e5-4c06-e2b8-ad191107ee1f",
        "colab": {
          "base_uri": "https://localhost:8080/",
          "height": 34
        }
      },
      "source": [
        "input = Input(shape=(), name=\"Input\", dtype=tf.string)\n",
        "x = hub_layer(input)\n",
        "x.shape"
      ],
      "execution_count": 42,
      "outputs": [
        {
          "output_type": "execute_result",
          "data": {
            "text/plain": [
              "TensorShape([None, 512])"
            ]
          },
          "metadata": {
            "tags": []
          },
          "execution_count": 42
        }
      ]
    },
    {
      "cell_type": "code",
      "metadata": {
        "id": "OlLY2Md60Kog",
        "colab_type": "code",
        "outputId": "3e5386e1-362a-4847-8e47-7cf9cebfa07b",
        "colab": {
          "base_uri": "https://localhost:8080/",
          "height": 286
        }
      },
      "source": [
        "input = Input(shape=(), name=\"Input\", dtype=tf.string)\n",
        "x = hub_layer(input)\n",
        "x = tf.keras.layers.Dense(128, activation='relu')(x)\n",
        "output = tf.keras.layers.Dense(1, activation='sigmoid')(x)\n",
        "m = Model(input, output)\n",
        "m.summary()"
      ],
      "execution_count": 44,
      "outputs": [
        {
          "output_type": "stream",
          "text": [
            "Model: \"model_3\"\n",
            "_________________________________________________________________\n",
            "Layer (type)                 Output Shape              Param #   \n",
            "=================================================================\n",
            "Input (InputLayer)           [(None,)]                 0         \n",
            "_________________________________________________________________\n",
            "keras_layer_3 (KerasLayer)   (None, 512)               256797824 \n",
            "_________________________________________________________________\n",
            "dense_6 (Dense)              (None, 128)               65664     \n",
            "_________________________________________________________________\n",
            "dense_7 (Dense)              (None, 1)                 129       \n",
            "=================================================================\n",
            "Total params: 256,863,617\n",
            "Trainable params: 256,863,617\n",
            "Non-trainable params: 0\n",
            "_________________________________________________________________\n"
          ],
          "name": "stdout"
        }
      ]
    },
    {
      "cell_type": "code",
      "metadata": {
        "id": "OmY345mL0Ktm",
        "colab_type": "code",
        "colab": {}
      },
      "source": [
        "m.compile(optimizer='adam',\n",
        "              loss=tf.losses.BinaryCrossentropy(from_logits=True),\n",
        "              metrics=['accuracy'])"
      ],
      "execution_count": 0,
      "outputs": []
    },
    {
      "cell_type": "code",
      "metadata": {
        "id": "qL9yAaC30bbx",
        "colab_type": "code",
        "colab": {}
      },
      "source": [
        ""
      ],
      "execution_count": 0,
      "outputs": []
    },
    {
      "cell_type": "code",
      "metadata": {
        "id": "EAgVvB0S0KxU",
        "colab_type": "code",
        "colab": {}
      },
      "source": [
        "x_val = X_train[:10000]\n",
        "partial_x_train = X_train[10000:]\n",
        "\n",
        "y_val = y_train[:10000]\n",
        "partial_y_train = y_train[10000:]"
      ],
      "execution_count": 0,
      "outputs": []
    },
    {
      "cell_type": "code",
      "metadata": {
        "id": "FsK4QYrV0WWq",
        "colab_type": "code",
        "outputId": "a8b77136-dde6-4f20-d96c-895f3811e4d3",
        "colab": {
          "base_uri": "https://localhost:8080/",
          "height": 689
        }
      },
      "source": [
        "history = m.fit(partial_x_train,\n",
        "                    partial_y_train,\n",
        "                    epochs=20,\n",
        "                    batch_size=512,\n",
        "                    validation_data=(x_val, y_val),\n",
        "                    verbose=1)"
      ],
      "execution_count": 47,
      "outputs": [
        {
          "output_type": "stream",
          "text": [
            "Epoch 1/20\n",
            "30/30 [==============================] - 29s 964ms/step - loss: 0.6677 - accuracy: 0.5990 - val_loss: 0.6021 - val_accuracy: 0.8215\n",
            "Epoch 2/20\n",
            "30/30 [==============================] - 29s 963ms/step - loss: 0.5682 - accuracy: 0.8733 - val_loss: 0.5638 - val_accuracy: 0.8776\n",
            "Epoch 3/20\n",
            "30/30 [==============================] - 29s 970ms/step - loss: 0.5295 - accuracy: 0.9451 - val_loss: 0.5584 - val_accuracy: 0.8867\n",
            "Epoch 4/20\n",
            "30/30 [==============================] - 29s 956ms/step - loss: 0.5176 - accuracy: 0.9689 - val_loss: 0.5579 - val_accuracy: 0.8896\n",
            "Epoch 5/20\n",
            "30/30 [==============================] - 29s 951ms/step - loss: 0.5134 - accuracy: 0.9783 - val_loss: 0.5592 - val_accuracy: 0.8897\n",
            "Epoch 6/20\n",
            "30/30 [==============================] - 29s 951ms/step - loss: 0.5118 - accuracy: 0.9813 - val_loss: 0.5580 - val_accuracy: 0.8902\n",
            "Epoch 7/20\n",
            "30/30 [==============================] - 29s 963ms/step - loss: 0.5111 - accuracy: 0.9833 - val_loss: 0.5701 - val_accuracy: 0.8789\n",
            "Epoch 8/20\n",
            "30/30 [==============================] - 29s 959ms/step - loss: 0.5105 - accuracy: 0.9845 - val_loss: 0.5581 - val_accuracy: 0.8906\n",
            "Epoch 9/20\n",
            "30/30 [==============================] - 29s 955ms/step - loss: 0.5099 - accuracy: 0.9857 - val_loss: 0.5545 - val_accuracy: 0.8907\n",
            "Epoch 10/20\n",
            "30/30 [==============================] - 29s 965ms/step - loss: 0.5096 - accuracy: 0.9865 - val_loss: 0.5566 - val_accuracy: 0.8899\n",
            "Epoch 11/20\n",
            "30/30 [==============================] - 29s 959ms/step - loss: 0.5094 - accuracy: 0.9867 - val_loss: 0.5688 - val_accuracy: 0.8792\n",
            "Epoch 12/20\n",
            "30/30 [==============================] - 29s 972ms/step - loss: 0.5091 - accuracy: 0.9873 - val_loss: 0.5585 - val_accuracy: 0.8929\n",
            "Epoch 13/20\n",
            "30/30 [==============================] - 29s 962ms/step - loss: 0.5089 - accuracy: 0.9877 - val_loss: 0.5586 - val_accuracy: 0.8925\n",
            "Epoch 14/20\n",
            "30/30 [==============================] - 29s 967ms/step - loss: 0.5087 - accuracy: 0.9881 - val_loss: 0.5563 - val_accuracy: 0.8759\n",
            "Epoch 15/20\n",
            "30/30 [==============================] - 29s 971ms/step - loss: 0.5085 - accuracy: 0.9887 - val_loss: 0.5553 - val_accuracy: 0.8833\n",
            "Epoch 16/20\n",
            "30/30 [==============================] - 29s 962ms/step - loss: 0.5084 - accuracy: 0.9890 - val_loss: 0.5576 - val_accuracy: 0.8912\n",
            "Epoch 17/20\n",
            "30/30 [==============================] - 29s 961ms/step - loss: 0.5081 - accuracy: 0.9895 - val_loss: 0.5625 - val_accuracy: 0.8869\n",
            "Epoch 18/20\n",
            "30/30 [==============================] - 29s 950ms/step - loss: 0.5080 - accuracy: 0.9898 - val_loss: 0.5557 - val_accuracy: 0.8791\n",
            "Epoch 19/20\n",
            "30/30 [==============================] - 29s 965ms/step - loss: 0.5077 - accuracy: 0.9903 - val_loss: 0.5549 - val_accuracy: 0.8882\n",
            "Epoch 20/20\n",
            "30/30 [==============================] - 29s 968ms/step - loss: 0.5076 - accuracy: 0.9905 - val_loss: 0.5579 - val_accuracy: 0.8692\n"
          ],
          "name": "stdout"
        }
      ]
    },
    {
      "cell_type": "code",
      "metadata": {
        "id": "154pxqM-0pN5",
        "colab_type": "code",
        "outputId": "36c9a3ca-4053-45ee-ce96-b32eba7cf270",
        "colab": {
          "base_uri": "https://localhost:8080/",
          "height": 50
        }
      },
      "source": [
        "results = m.evaluate(X_test, y_test)\n",
        "\n",
        "print(results)"
      ],
      "execution_count": 48,
      "outputs": [
        {
          "output_type": "stream",
          "text": [
            "782/782 [==============================] - 27s 35ms/step - loss: 0.5615 - accuracy: 0.8604\n",
            "[0.5615106821060181, 0.8604400157928467]\n"
          ],
          "name": "stdout"
        }
      ]
    },
    {
      "cell_type": "code",
      "metadata": {
        "id": "-v5VJq8v0pZ8",
        "colab_type": "code",
        "outputId": "5d9df5cd-aaa6-4e46-fef8-65da87e4ee6e",
        "colab": {
          "base_uri": "https://localhost:8080/",
          "height": 34
        }
      },
      "source": [
        "history_dict = history.history\n",
        "history_dict.keys()"
      ],
      "execution_count": 49,
      "outputs": [
        {
          "output_type": "execute_result",
          "data": {
            "text/plain": [
              "dict_keys(['loss', 'accuracy', 'val_loss', 'val_accuracy'])"
            ]
          },
          "metadata": {
            "tags": []
          },
          "execution_count": 49
        }
      ]
    },
    {
      "cell_type": "code",
      "metadata": {
        "id": "egiDo17u9uEm",
        "colab_type": "code",
        "outputId": "b8178e85-112b-4fb7-eb3d-7bddde1c40d4",
        "colab": {
          "base_uri": "https://localhost:8080/",
          "height": 295
        }
      },
      "source": [
        "acc = history_dict['accuracy']\n",
        "val_acc = history_dict['val_accuracy']\n",
        "loss = history_dict['loss']\n",
        "val_loss = history_dict['val_loss']\n",
        "\n",
        "epochs = range(1, len(acc) + 1)\n",
        "\n",
        "# \"bo\" is for \"blue dot\"\n",
        "plt.plot(epochs, loss, 'bo', label='Training loss')\n",
        "# b is for \"solid blue line\"\n",
        "plt.plot(epochs, val_loss, 'b', label='Validation loss')\n",
        "plt.title('Training and validation loss')\n",
        "plt.xlabel('Epochs')\n",
        "plt.ylabel('Loss')\n",
        "plt.legend()\n",
        "\n",
        "plt.show()"
      ],
      "execution_count": 50,
      "outputs": [
        {
          "output_type": "display_data",
          "data": {
            "image/png": "[encoded data removed]",
            "text/plain": [
              "<Figure size 432x288 with 1 Axes>"
            ]
          },
          "metadata": {
            "tags": [],
            "needs_background": "light"
          }
        }
      ]
    },
    {
      "cell_type": "code",
      "metadata": {
        "id": "E8iogA4n9wpz",
        "colab_type": "code",
        "outputId": "85f9c9ce-3042-4253-af93-8317dbc8cac4",
        "colab": {
          "base_uri": "https://localhost:8080/",
          "height": 295
        }
      },
      "source": [
        "plt.clf()   # clear figure\n",
        "\n",
        "plt.plot(epochs, acc, 'bo', label='Training acc')\n",
        "plt.plot(epochs, val_acc, 'b', label='Validation acc')\n",
        "plt.title('Training and validation accuracy')\n",
        "plt.xlabel('Epochs')\n",
        "plt.ylabel('Accuracy')\n",
        "plt.legend()\n",
        "\n",
        "plt.show()"
      ],
      "execution_count": 51,
      "outputs": [
        {
          "output_type": "display_data",
          "data": {
            "image/png": "[encoded data removed]",
            "text/plain": [
              "<Figure size 432x288 with 1 Axes>"
            ]
          },
          "metadata": {
            "tags": [],
            "needs_background": "light"
          }
        }
      ]
    },
    {
      "cell_type": "code",
      "metadata": {
        "id": "Byf8VF9b99I8",
        "colab_type": "code",
        "colab": {}
      },
      "source": [
        ""
      ],
      "execution_count": 0,
      "outputs": []
    }
  ]
}