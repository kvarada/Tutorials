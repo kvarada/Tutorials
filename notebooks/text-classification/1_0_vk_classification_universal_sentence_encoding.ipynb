{
  "nbformat": 4,
  "nbformat_minor": 0,
  "metadata": {
    "colab": {
      "name": "1.0-vk-classification-universal-sentence-encoding.ipynb",
      "provenance": [],
      "collapsed_sections": []
    },
    "kernelspec": {
      "name": "python3",
      "display_name": "Python 3"
    },
    "accelerator": "GPU"
  },
  "cells": [
    {
      "cell_type": "markdown",
      "metadata": {
        "id": "AeKhP1S_cjbz",
        "colab_type": "text"
      },
      "source": [
        "### This notebook is heavily based on [this tutorial](https://www.tensorflow.org/hub/tutorials/tf2_text_classification). Below is the copyright info. "
      ]
    },
    {
      "cell_type": "code",
      "metadata": {
        "id": "3BMDYsNsc40i",
        "colab_type": "code",
        "colab": {}
      },
      "source": [
        "#\n",
        "# Copyright (c) 2017 François Chollet\n",
        "#\n",
        "# Permission is hereby granted, free of charge, to any person obtaining a\n",
        "# copy of this software and associated documentation files (the \"Software\"),\n",
        "# to deal in the Software without restriction, including without limitation\n",
        "# the rights to use, copy, modify, merge, publish, distribute, sublicense,\n",
        "# and/or sell copies of the Software, and to permit persons to whom the\n",
        "# Software is furnished to do so, subject to the following conditions:\n",
        "#\n",
        "# The above copyright notice and this permission notice shall be included in\n",
        "# all copies or substantial portions of the Software.\n",
        "#\n",
        "# THE SOFTWARE IS PROVIDED \"AS IS\", WITHOUT WARRANTY OF ANY KIND, EXPRESS OR\n",
        "# IMPLIED, INCLUDING BUT NOT LIMITED TO THE WARRANTIES OF MERCHANTABILITY,\n",
        "# FITNESS FOR A PARTICULAR PURPOSE AND NONINFRINGEMENT. IN NO EVENT SHALL\n",
        "# THE AUTHORS OR COPYRIGHT HOLDERS BE LIABLE FOR ANY CLAIM, DAMAGES OR OTHER\n",
        "# LIABILITY, WHETHER IN AN ACTION OF CONTRACT, TORT OR OTHERWISE, ARISING\n",
        "# FROM, OUT OF OR IN CONNECTION WITH THE SOFTWARE OR THE USE OR OTHER\n",
        "# DEALINGS IN THE SOFTWARE."
      ],
      "execution_count": 0,
      "outputs": []
    },
    {
      "cell_type": "code",
      "metadata": {
        "id": "GXFv57yGx4-3",
        "colab_type": "code",
        "outputId": "ef43be95-60df-49ce-9714-4cd6e1feeb90",
        "colab": {
          "base_uri": "https://localhost:8080/",
          "height": 87
        }
      },
      "source": [
        "from absl import logging\n",
        "\n",
        "import tensorflow as tf\n",
        "\n",
        "import tensorflow_hub as hub\n",
        "import matplotlib.pyplot as plt\n",
        "import numpy as np\n",
        "import os\n",
        "import pandas as pd\n",
        "import re\n",
        "import seaborn as sns\n",
        "import tensorflow_datasets as tfds\n",
        "from tensorflow.keras import Input, layers\n",
        "from tensorflow.keras.models import Model\n",
        "\n",
        "module_url = \"https://tfhub.dev/google/universal-sentence-encoder/4\" #@param [\"https://tfhub.dev/google/universal-sentence-encoder/4\", \"https://tfhub.dev/google/universal-sentence-encoder-large/5\"]\n",
        "model = hub.load(module_url)\n",
        "print (\"module %s loaded\" % module_url)\n",
        "def embed(input):\n",
        "  return model(input)"
      ],
      "execution_count": 2,
      "outputs": [
        {
          "output_type": "stream",
          "text": [
            "/usr/local/lib/python3.6/dist-packages/statsmodels/tools/_testing.py:19: FutureWarning: pandas.util.testing is deprecated. Use the functions in the public API at pandas.testing instead.\n",
            "  import pandas.util.testing as tm\n"
          ],
          "name": "stderr"
        },
        {
          "output_type": "stream",
          "text": [
            "module https://tfhub.dev/google/universal-sentence-encoder/4 loaded\n"
          ],
          "name": "stdout"
        }
      ]
    },
    {
      "cell_type": "code",
      "metadata": {
        "id": "xQPzNngbyhGZ",
        "colab_type": "code",
        "colab": {}
      },
      "source": [
        "train_data, test_data = tfds.load(name=\"imdb_reviews\", split=[\"train\", \"test\"], \n",
        "                                  batch_size=-1, as_supervised=True)\n",
        "\n",
        "X_train, y_train = tfds.as_numpy(train_data)\n",
        "X_test, y_test = tfds.as_numpy(test_data)"
      ],
      "execution_count": 0,
      "outputs": []
    },
    {
      "cell_type": "code",
      "metadata": {
        "id": "D9vxNuvQzWNx",
        "colab_type": "code",
        "outputId": "fdfa7710-6b9c-4266-f41e-4899372f94c9",
        "colab": {
          "base_uri": "https://localhost:8080/",
          "height": 34
        }
      },
      "source": [
        "print(\"Training entries: {}, test entries: {}\".format(len(X_train), len(X_test)))\n"
      ],
      "execution_count": 4,
      "outputs": [
        {
          "output_type": "stream",
          "text": [
            "Training entries: 25000, test entries: 25000\n"
          ],
          "name": "stdout"
        }
      ]
    },
    {
      "cell_type": "code",
      "metadata": {
        "id": "-wUt_dbDztV8",
        "colab_type": "code",
        "outputId": "1785af2d-5d5a-45f0-c76d-5af7afdcfe85",
        "colab": {
          "base_uri": "https://localhost:8080/",
          "height": 87
        }
      },
      "source": [
        "X_train[:2]"
      ],
      "execution_count": 5,
      "outputs": [
        {
          "output_type": "execute_result",
          "data": {
            "text/plain": [
              "array([b\"This was an absolutely terrible movie. Don't be lured in by Christopher Walken or Michael Ironside. Both are great actors, but this must simply be their worst role in history. Even their great acting could not redeem this movie's ridiculous storyline. This movie is an early nineties US propaganda piece. The most pathetic scenes were those when the Columbian rebels were making their cases for revolutions. Maria Conchita Alonso appeared phony, and her pseudo-love affair with Walken was nothing but a pathetic emotional plug in a movie that was devoid of any real meaning. I am disappointed that there are movies like this, ruining actor's like Christopher Walken's good name. I could barely sit through it.\",\n",
              "       b'I have been known to fall asleep during films, but this is usually due to a combination of things including, really tired, being warm and comfortable on the sette and having just eaten a lot. However on this occasion I fell asleep because the film was rubbish. The plot development was constant. Constantly slow and boring. Things seemed to happen, but with no explanation of what was causing them or why. I admit, I may have missed part of the film, but i watched the majority of it and everything just seemed to happen of its own accord without any real concern for anything else. I cant recommend this film at all.'],\n",
              "      dtype=object)"
            ]
          },
          "metadata": {
            "tags": []
          },
          "execution_count": 5
        }
      ]
    },
    {
      "cell_type": "code",
      "metadata": {
        "id": "syulgRTVz1nT",
        "colab_type": "code",
        "outputId": "aac3b93f-d4d5-4c15-aa45-885d7a0e578e",
        "colab": {
          "base_uri": "https://localhost:8080/",
          "height": 34
        }
      },
      "source": [
        "y_train"
      ],
      "execution_count": 6,
      "outputs": [
        {
          "output_type": "execute_result",
          "data": {
            "text/plain": [
              "array([0, 0, 0, ..., 0, 0, 1])"
            ]
          },
          "metadata": {
            "tags": []
          },
          "execution_count": 6
        }
      ]
    },
    {
      "cell_type": "code",
      "metadata": {
        "id": "CHmS40O81PYJ",
        "colab_type": "code",
        "colab": {}
      },
      "source": [
        "### Use embeddings given by universal sentence encoder \n",
        "model = hub.load(\"https://tfhub.dev/google/universal-sentence-encoder/4\")\n",
        "hub_layer = hub.KerasLayer(model, output_shape=[512], input_shape=[], \n",
        "                           dtype=tf.string, trainable=True)"
      ],
      "execution_count": 0,
      "outputs": []
    },
    {
      "cell_type": "code",
      "metadata": {
        "id": "lJwgWN2c-ao-",
        "colab_type": "code",
        "outputId": "c1fcf06d-e73b-4d64-fedf-fa6aec079508",
        "colab": {
          "base_uri": "https://localhost:8080/",
          "height": 34
        }
      },
      "source": [
        "hub_layer(X_train[:3]).shape"
      ],
      "execution_count": 8,
      "outputs": [
        {
          "output_type": "execute_result",
          "data": {
            "text/plain": [
              "TensorShape([3, 512])"
            ]
          },
          "metadata": {
            "tags": []
          },
          "execution_count": 8
        }
      ]
    },
    {
      "cell_type": "markdown",
      "metadata": {
        "id": "sgYyROhlurxn",
        "colab_type": "text"
      },
      "source": [
        "### Let's build a CNN on the top of embeddings given by universal sentence encoder. "
      ]
    },
    {
      "cell_type": "code",
      "metadata": {
        "id": "OlLY2Md60Kog",
        "colab_type": "code",
        "outputId": "276eadab-c7d5-498c-e382-4cb6d25692ae",
        "colab": {
          "base_uri": "https://localhost:8080/",
          "height": 588
        }
      },
      "source": [
        "input = Input(shape=(), name=\"Input\", dtype=tf.string)\n",
        "x = hub_layer(input)\n",
        "x = tf.keras.layers.Reshape(input_shape=(512,), target_shape=(512, 1))(x)\n",
        "x = tf.keras.layers.Conv1D(128, 2, activation='relu', padding='same')(x)\n",
        "x = tf.keras.layers.MaxPooling1D(5, padding='same')(x)\n",
        "x = tf.keras.layers.Conv1D(128, 3, activation='relu', padding='same')(x)\n",
        "x = tf.keras.layers.MaxPooling1D(5, padding='same')(x)\n",
        "x = tf.keras.layers.Conv1D(128, 4, activation='relu', padding='same')(x)\n",
        "x = tf.keras.layers.MaxPooling1D(40, padding='same')(x)\n",
        "x = tf.keras.layers.Flatten()(x)\n",
        "x = tf.keras.layers.Dropout(0.5)(x)\n",
        "x = tf.keras.layers.Dense(128, activation='relu')(x)\n",
        "output = tf.keras.layers.Dense(1, activation='sigmoid')(x)\n",
        "m = Model(input, output)\n",
        "m.summary()"
      ],
      "execution_count": 12,
      "outputs": [
        {
          "output_type": "stream",
          "text": [
            "Model: \"model_1\"\n",
            "_________________________________________________________________\n",
            "Layer (type)                 Output Shape              Param #   \n",
            "=================================================================\n",
            "Input (InputLayer)           [(None,)]                 0         \n",
            "_________________________________________________________________\n",
            "keras_layer (KerasLayer)     (None, 512)               256797824 \n",
            "_________________________________________________________________\n",
            "reshape (Reshape)            (None, 512, 1)            0         \n",
            "_________________________________________________________________\n",
            "conv1d (Conv1D)              (None, 512, 128)          384       \n",
            "_________________________________________________________________\n",
            "max_pooling1d (MaxPooling1D) (None, 103, 128)          0         \n",
            "_________________________________________________________________\n",
            "conv1d_1 (Conv1D)            (None, 103, 128)          49280     \n",
            "_________________________________________________________________\n",
            "max_pooling1d_1 (MaxPooling1 (None, 21, 128)           0         \n",
            "_________________________________________________________________\n",
            "conv1d_2 (Conv1D)            (None, 21, 128)           65664     \n",
            "_________________________________________________________________\n",
            "max_pooling1d_2 (MaxPooling1 (None, 1, 128)            0         \n",
            "_________________________________________________________________\n",
            "flatten (Flatten)            (None, 128)               0         \n",
            "_________________________________________________________________\n",
            "dropout (Dropout)            (None, 128)               0         \n",
            "_________________________________________________________________\n",
            "dense_4 (Dense)              (None, 128)               16512     \n",
            "_________________________________________________________________\n",
            "dense_5 (Dense)              (None, 1)                 129       \n",
            "=================================================================\n",
            "Total params: 256,929,793\n",
            "Trainable params: 256,929,793\n",
            "Non-trainable params: 0\n",
            "_________________________________________________________________\n"
          ],
          "name": "stdout"
        }
      ]
    },
    {
      "cell_type": "code",
      "metadata": {
        "id": "OmY345mL0Ktm",
        "colab_type": "code",
        "colab": {}
      },
      "source": [
        "m.compile(optimizer='adam',\n",
        "              loss=tf.losses.BinaryCrossentropy(from_logits=True),\n",
        "              metrics=['accuracy'])"
      ],
      "execution_count": 0,
      "outputs": []
    },
    {
      "cell_type": "code",
      "metadata": {
        "id": "qL9yAaC30bbx",
        "colab_type": "code",
        "colab": {}
      },
      "source": [
        ""
      ],
      "execution_count": 0,
      "outputs": []
    },
    {
      "cell_type": "code",
      "metadata": {
        "id": "EAgVvB0S0KxU",
        "colab_type": "code",
        "colab": {}
      },
      "source": [
        "x_val = X_train[:10000]\n",
        "partial_x_train = X_train[10000:]\n",
        "\n",
        "y_val = y_train[:10000]\n",
        "partial_y_train = y_train[10000:]"
      ],
      "execution_count": 0,
      "outputs": []
    },
    {
      "cell_type": "code",
      "metadata": {
        "id": "FsK4QYrV0WWq",
        "colab_type": "code",
        "outputId": "74989e88-35e7-4f2e-e0a2-9380e70bc95a",
        "colab": {
          "base_uri": "https://localhost:8080/",
          "height": 689
        }
      },
      "source": [
        "history = m.fit(partial_x_train,\n",
        "                    partial_y_train,\n",
        "                    epochs=20,\n",
        "                    batch_size=512,\n",
        "                    validation_data=(x_val, y_val),\n",
        "                    verbose=1)"
      ],
      "execution_count": 15,
      "outputs": [
        {
          "output_type": "stream",
          "text": [
            "Epoch 1/20\n",
            "30/30 [==============================] - 33s 1s/step - loss: 0.7024 - accuracy: 0.5003 - val_loss: 0.6931 - val_accuracy: 0.4998\n",
            "Epoch 2/20\n",
            "30/30 [==============================] - 32s 1s/step - loss: 0.6931 - accuracy: 0.5001 - val_loss: 0.6931 - val_accuracy: 0.4998\n",
            "Epoch 3/20\n",
            "30/30 [==============================] - 32s 1s/step - loss: 0.6931 - accuracy: 0.5001 - val_loss: 0.6931 - val_accuracy: 0.4998\n",
            "Epoch 4/20\n",
            "30/30 [==============================] - 31s 1s/step - loss: 0.6931 - accuracy: 0.5001 - val_loss: 0.6931 - val_accuracy: 0.4998\n",
            "Epoch 5/20\n",
            "30/30 [==============================] - 31s 1s/step - loss: 0.6931 - accuracy: 0.5001 - val_loss: 0.6931 - val_accuracy: 0.4998\n",
            "Epoch 6/20\n",
            "30/30 [==============================] - 31s 1s/step - loss: 0.6920 - accuracy: 0.5009 - val_loss: 0.6856 - val_accuracy: 0.4998\n",
            "Epoch 7/20\n",
            "30/30 [==============================] - 31s 1s/step - loss: 0.6471 - accuracy: 0.6349 - val_loss: 0.5760 - val_accuracy: 0.8438\n",
            "Epoch 8/20\n",
            "30/30 [==============================] - 31s 1s/step - loss: 0.5508 - accuracy: 0.9044 - val_loss: 0.5681 - val_accuracy: 0.8764\n",
            "Epoch 9/20\n",
            "30/30 [==============================] - 31s 1s/step - loss: 0.5304 - accuracy: 0.9431 - val_loss: 0.5583 - val_accuracy: 0.8880\n",
            "Epoch 10/20\n",
            "30/30 [==============================] - 31s 1s/step - loss: 0.5255 - accuracy: 0.9530 - val_loss: 0.5565 - val_accuracy: 0.8878\n",
            "Epoch 11/20\n",
            "30/30 [==============================] - 31s 1s/step - loss: 0.5201 - accuracy: 0.9636 - val_loss: 0.5560 - val_accuracy: 0.8833\n",
            "Epoch 12/20\n",
            "30/30 [==============================] - 31s 1s/step - loss: 0.5186 - accuracy: 0.9665 - val_loss: 0.5615 - val_accuracy: 0.8570\n",
            "Epoch 13/20\n",
            "30/30 [==============================] - 31s 1s/step - loss: 0.5174 - accuracy: 0.9689 - val_loss: 0.5617 - val_accuracy: 0.8891\n",
            "Epoch 14/20\n",
            "30/30 [==============================] - 31s 1s/step - loss: 0.5168 - accuracy: 0.9703 - val_loss: 0.5561 - val_accuracy: 0.8850\n",
            "Epoch 15/20\n",
            "30/30 [==============================] - 31s 1s/step - loss: 0.5174 - accuracy: 0.9696 - val_loss: 0.5571 - val_accuracy: 0.8909\n",
            "Epoch 16/20\n",
            "30/30 [==============================] - 31s 1s/step - loss: 0.5149 - accuracy: 0.9747 - val_loss: 0.5558 - val_accuracy: 0.8795\n",
            "Epoch 17/20\n",
            "30/30 [==============================] - 31s 1s/step - loss: 0.5141 - accuracy: 0.9766 - val_loss: 0.5557 - val_accuracy: 0.8921\n",
            "Epoch 18/20\n",
            "30/30 [==============================] - 31s 1s/step - loss: 0.5136 - accuracy: 0.9775 - val_loss: 0.5664 - val_accuracy: 0.8836\n",
            "Epoch 19/20\n",
            "30/30 [==============================] - 31s 1s/step - loss: 0.5136 - accuracy: 0.9773 - val_loss: 0.5557 - val_accuracy: 0.8941\n",
            "Epoch 20/20\n",
            "30/30 [==============================] - 31s 1s/step - loss: 0.5132 - accuracy: 0.9783 - val_loss: 0.5545 - val_accuracy: 0.8916\n"
          ],
          "name": "stdout"
        }
      ]
    },
    {
      "cell_type": "code",
      "metadata": {
        "id": "154pxqM-0pN5",
        "colab_type": "code",
        "outputId": "034a320f-cd71-4d49-d7b0-6a8ce30b95ce",
        "colab": {
          "base_uri": "https://localhost:8080/",
          "height": 50
        }
      },
      "source": [
        "results = m.evaluate(X_test, y_test)\n",
        "\n",
        "print(results)"
      ],
      "execution_count": 16,
      "outputs": [
        {
          "output_type": "stream",
          "text": [
            "782/782 [==============================] - 28s 35ms/step - loss: 0.5584 - accuracy: 0.8830\n",
            "[0.5584310293197632, 0.8830400109291077]\n"
          ],
          "name": "stdout"
        }
      ]
    },
    {
      "cell_type": "code",
      "metadata": {
        "id": "-v5VJq8v0pZ8",
        "colab_type": "code",
        "outputId": "18b8e1ae-efed-400d-e3a9-be905d0dcd9d",
        "colab": {
          "base_uri": "https://localhost:8080/",
          "height": 34
        }
      },
      "source": [
        "history_dict = history.history\n",
        "history_dict.keys()"
      ],
      "execution_count": 17,
      "outputs": [
        {
          "output_type": "execute_result",
          "data": {
            "text/plain": [
              "dict_keys(['loss', 'accuracy', 'val_loss', 'val_accuracy'])"
            ]
          },
          "metadata": {
            "tags": []
          },
          "execution_count": 17
        }
      ]
    },
    {
      "cell_type": "code",
      "metadata": {
        "id": "egiDo17u9uEm",
        "colab_type": "code",
        "outputId": "3b4e96fd-ea71-40f9-c4a7-0e3e1cdaf515",
        "colab": {
          "base_uri": "https://localhost:8080/",
          "height": 295
        }
      },
      "source": [
        "acc = history_dict['accuracy']\n",
        "val_acc = history_dict['val_accuracy']\n",
        "loss = history_dict['loss']\n",
        "val_loss = history_dict['val_loss']\n",
        "\n",
        "epochs = range(1, len(acc) + 1)\n",
        "\n",
        "# \"bo\" is for \"blue dot\"\n",
        "plt.plot(epochs, loss, 'bo', label='Training loss')\n",
        "# b is for \"solid blue line\"\n",
        "plt.plot(epochs, val_loss, 'b', label='Validation loss')\n",
        "plt.title('Training and validation loss')\n",
        "plt.xlabel('Epochs')\n",
        "plt.ylabel('Loss')\n",
        "plt.legend()\n",
        "\n",
        "plt.show()"
      ],
      "execution_count": 18,
      "outputs": [
        {
          "output_type": "display_data",
          "data": {
            "image/png": "[encoded data removed]",
            "text/plain": [
              "<Figure size 432x288 with 1 Axes>"
            ]
          },
          "metadata": {
            "tags": [],
            "needs_background": "light"
          }
        }
      ]
    },
    {
      "cell_type": "code",
      "metadata": {
        "id": "E8iogA4n9wpz",
        "colab_type": "code",
        "outputId": "b0442381-ea6a-43c9-e4cb-6a42113c406c",
        "colab": {
          "base_uri": "https://localhost:8080/",
          "height": 295
        }
      },
      "source": [
        "plt.clf()   # clear figure\n",
        "\n",
        "plt.plot(epochs, acc, 'bo', label='Training acc')\n",
        "plt.plot(epochs, val_acc, 'b', label='Validation acc')\n",
        "plt.title('Training and validation accuracy')\n",
        "plt.xlabel('Epochs')\n",
        "plt.ylabel('Accuracy')\n",
        "plt.legend()\n",
        "\n",
        "plt.show()"
      ],
      "execution_count": 19,
      "outputs": [
        {
          "output_type": "display_data",
          "data": {
            "image/png": "[encoded data removed]",
            "text/plain": [
              "<Figure size 432x288 with 1 Axes>"
            ]
          },
          "metadata": {
            "tags": [],
            "needs_background": "light"
          }
        }
      ]
    },
    {
      "cell_type": "code",
      "metadata": {
        "id": "Byf8VF9b99I8",
        "colab_type": "code",
        "colab": {}
      },
      "source": [
        ""
      ],
      "execution_count": 0,
      "outputs": []
    }
  ]
}