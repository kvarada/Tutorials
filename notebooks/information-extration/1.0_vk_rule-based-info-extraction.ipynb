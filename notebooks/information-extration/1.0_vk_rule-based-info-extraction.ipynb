{
 "cells": [
  {
   "cell_type": "markdown",
   "metadata": {},
   "source": [
    "### An example of tagging EDUCATION in resume using [spaCy's Rule-based matching](https://spacy.io/usage/rule-based-matching)"
   ]
  },
  {
   "cell_type": "code",
   "execution_count": 2,
   "metadata": {},
   "outputs": [],
   "source": [
    "import pandas as pd\n",
    "import numpy as np\n",
    "import re, string\n",
    "import spacy\n",
    "from spacy.matcher import Matcher "
   ]
  },
  {
   "cell_type": "code",
   "execution_count": 3,
   "metadata": {},
   "outputs": [
    {
     "data": {
      "text/html": [
       "<div>\n",
       "<style scoped>\n",
       "    .dataframe tbody tr th:only-of-type {\n",
       "        vertical-align: middle;\n",
       "    }\n",
       "\n",
       "    .dataframe tbody tr th {\n",
       "        vertical-align: top;\n",
       "    }\n",
       "\n",
       "    .dataframe thead th {\n",
       "        text-align: right;\n",
       "    }\n",
       "</style>\n",
       "<table border=\"1\" class=\"dataframe\">\n",
       "  <thead>\n",
       "    <tr style=\"text-align: right;\">\n",
       "      <th></th>\n",
       "      <th>resume_id</th>\n",
       "      <th>class</th>\n",
       "      <th>resume_text</th>\n",
       "    </tr>\n",
       "  </thead>\n",
       "  <tbody>\n",
       "    <tr>\n",
       "      <th>0</th>\n",
       "      <td>resume_1</td>\n",
       "      <td>not_flagged</td>\n",
       "      <td>\\rCustomer Service Supervisor/Tier - Isabella ...</td>\n",
       "    </tr>\n",
       "    <tr>\n",
       "      <th>1</th>\n",
       "      <td>resume_2</td>\n",
       "      <td>not_flagged</td>\n",
       "      <td>\\rEngineer / Scientist - IBM Microelectronics ...</td>\n",
       "    </tr>\n",
       "    <tr>\n",
       "      <th>2</th>\n",
       "      <td>resume_3</td>\n",
       "      <td>not_flagged</td>\n",
       "      <td>\\rLTS Software Engineer Computational Lithogra...</td>\n",
       "    </tr>\n",
       "    <tr>\n",
       "      <th>3</th>\n",
       "      <td>resume_4</td>\n",
       "      <td>not_flagged</td>\n",
       "      <td>TUTOR\\rWilliston VT - Email me on Indeed: ind...</td>\n",
       "    </tr>\n",
       "    <tr>\n",
       "      <th>4</th>\n",
       "      <td>resume_5</td>\n",
       "      <td>flagged</td>\n",
       "      <td>\\rIndependent Consultant - Self-employed\\rBurl...</td>\n",
       "    </tr>\n",
       "  </tbody>\n",
       "</table>\n",
       "</div>"
      ],
      "text/plain": [
       "  resume_id        class                                        resume_text\n",
       "0  resume_1  not_flagged  \\rCustomer Service Supervisor/Tier - Isabella ...\n",
       "1  resume_2  not_flagged  \\rEngineer / Scientist - IBM Microelectronics ...\n",
       "2  resume_3  not_flagged  \\rLTS Software Engineer Computational Lithogra...\n",
       "3  resume_4  not_flagged   TUTOR\\rWilliston VT - Email me on Indeed: ind...\n",
       "4  resume_5      flagged  \\rIndependent Consultant - Self-employed\\rBurl..."
      ]
     },
     "execution_count": 3,
     "metadata": {},
     "output_type": "execute_result"
    }
   ],
   "source": [
    "# Download the dataset from here: https://www.kaggle.com/samdeeplearning/deepnlp\n",
    "# It's a rather small dataset but good for demonstration purposes. \n",
    "resume_df = pd.read_csv('../data/Sheet_2.csv', encoding = \"ISO-8859-1\")\n",
    "resume_df.head()"
   ]
  },
  {
   "cell_type": "code",
   "execution_count": 91,
   "metadata": {},
   "outputs": [],
   "source": [
    "resume_df['resume_text_pp'] = resume_df['resume_text'].apply(lambda x: re.sub(r'\\r', '\\n', x))"
   ]
  },
  {
   "cell_type": "code",
   "execution_count": 93,
   "metadata": {},
   "outputs": [
    {
     "data": {
      "text/html": [
       "<div>\n",
       "<style scoped>\n",
       "    .dataframe tbody tr th:only-of-type {\n",
       "        vertical-align: middle;\n",
       "    }\n",
       "\n",
       "    .dataframe tbody tr th {\n",
       "        vertical-align: top;\n",
       "    }\n",
       "\n",
       "    .dataframe thead th {\n",
       "        text-align: right;\n",
       "    }\n",
       "</style>\n",
       "<table border=\"1\" class=\"dataframe\">\n",
       "  <thead>\n",
       "    <tr style=\"text-align: right;\">\n",
       "      <th></th>\n",
       "      <th>resume_id</th>\n",
       "      <th>class</th>\n",
       "      <th>resume_text</th>\n",
       "      <th>resume_text_pp</th>\n",
       "    </tr>\n",
       "  </thead>\n",
       "  <tbody>\n",
       "    <tr>\n",
       "      <th>0</th>\n",
       "      <td>resume_1</td>\n",
       "      <td>not_flagged</td>\n",
       "      <td>\\rCustomer Service Supervisor/Tier - Isabella ...</td>\n",
       "      <td>\\nCustomer Service Supervisor/Tier - Isabella ...</td>\n",
       "    </tr>\n",
       "    <tr>\n",
       "      <th>1</th>\n",
       "      <td>resume_2</td>\n",
       "      <td>not_flagged</td>\n",
       "      <td>\\rEngineer / Scientist - IBM Microelectronics ...</td>\n",
       "      <td>\\nEngineer / Scientist - IBM Microelectronics ...</td>\n",
       "    </tr>\n",
       "    <tr>\n",
       "      <th>2</th>\n",
       "      <td>resume_3</td>\n",
       "      <td>not_flagged</td>\n",
       "      <td>\\rLTS Software Engineer Computational Lithogra...</td>\n",
       "      <td>\\nLTS Software Engineer Computational Lithogra...</td>\n",
       "    </tr>\n",
       "    <tr>\n",
       "      <th>3</th>\n",
       "      <td>resume_4</td>\n",
       "      <td>not_flagged</td>\n",
       "      <td>TUTOR\\rWilliston VT - Email me on Indeed: ind...</td>\n",
       "      <td>TUTOR\\nWilliston VT - Email me on Indeed: ind...</td>\n",
       "    </tr>\n",
       "    <tr>\n",
       "      <th>4</th>\n",
       "      <td>resume_5</td>\n",
       "      <td>flagged</td>\n",
       "      <td>\\rIndependent Consultant - Self-employed\\rBurl...</td>\n",
       "      <td>\\nIndependent Consultant - Self-employed\\nBurl...</td>\n",
       "    </tr>\n",
       "  </tbody>\n",
       "</table>\n",
       "</div>"
      ],
      "text/plain": [
       "  resume_id        class                                        resume_text  \\\n",
       "0  resume_1  not_flagged  \\rCustomer Service Supervisor/Tier - Isabella ...   \n",
       "1  resume_2  not_flagged  \\rEngineer / Scientist - IBM Microelectronics ...   \n",
       "2  resume_3  not_flagged  \\rLTS Software Engineer Computational Lithogra...   \n",
       "3  resume_4  not_flagged   TUTOR\\rWilliston VT - Email me on Indeed: ind...   \n",
       "4  resume_5      flagged  \\rIndependent Consultant - Self-employed\\rBurl...   \n",
       "\n",
       "                                      resume_text_pp  \n",
       "0  \\nCustomer Service Supervisor/Tier - Isabella ...  \n",
       "1  \\nEngineer / Scientist - IBM Microelectronics ...  \n",
       "2  \\nLTS Software Engineer Computational Lithogra...  \n",
       "3   TUTOR\\nWilliston VT - Email me on Indeed: ind...  \n",
       "4  \\nIndependent Consultant - Self-employed\\nBurl...  "
      ]
     },
     "execution_count": 93,
     "metadata": {},
     "output_type": "execute_result"
    }
   ],
   "source": [
    "resume_df.head()"
   ]
  },
  {
   "cell_type": "code",
   "execution_count": 95,
   "metadata": {},
   "outputs": [
    {
     "name": "stdout",
     "output_type": "stream",
     "text": [
      " TUTOR\n",
      "Williston VT - Email me on Indeed: indeed.com/r/Alec-Schwartz/7177c11327372c0a\n",
      "WORK EXPERIENCE\n",
      "Tutor\n",
      "Dickinson College Biology Department - Carlisle PA - March 2016 to May 2016\n",
      "I was invited to tutor three students enrolled in Biology 120: Life at the Extremes. I helped them learn as independently as possible while still acting as a mentor and guide.\n",
      "Teaching Assistant\n",
      "Dickinson College Biology Department - Carlisle PA - January 2016 to May 2016\n",
      "Taught by Professor Scott Boback this comparative physiology course explored how extremophiles are capable of surviving and maintaining\n",
      "homeostasis in harsh environments. I helped students perform hypothesis-driven physiology experiments and vertebrate dissections.\n",
      "QA/QC Laboratory Coordinator\n",
      "Alliance for Aquatic Resource Monitoring (ALLARM) - Carlisle PA - August 2015 to May 2016\n",
      "ALLARM a small NGO housed at Dickinson college engages communities to use science as a tool to investigate the health of their streams. I helped\n",
      "mentor organizations to teach them to use the data they generate for aquatic protection and restoration efforts. I mainly worked in the lab performing\n",
      "chemical tests for quality assurance verification. I also currently research and test equipment to verify precision accuracy and accessibility for citizen\n",
      "scientists as well as conducting bimonthly baseline analysis of our local Retort Spring Run.\n",
      "First-Year Mentor Wilderness Introduction to Life at Dickinson (WILD) Leader\n",
      "Campus Life at Dickinson College - Carlisle PA - August 2013 to May 2016\n",
      "The First-Year Mentor program provides an opportunity for upper-level students to help new students experience a positive transition to college. I met with my First-Year Interest Group weekly to check in on their personal social and intellectual development at Dickinson. Last Fall I led a 3-day\n",
      "backpacking trip through a section of the Delaware Water Gap during orientation. After one of my first-year's suddenly passed away in the Fall '15 I co- led a partnership between Dickinson and our local YMCA's Safety Around Water Program to provide help during outreach enrollment and swim lessons. It has given our community a meaningful way to commemorate the life of Jigme Nidup.\n",
      "Customer Experience Intern\n",
      "NaviNet - Boston MA - June 2015 to August 2015\n",
      "NaviNet is America's leading healthcare collaboration network connecting over 40 health plans and 60% of the nation's physicians. I worked as a\n",
      "Customer Experience Intern drafting user-experience reports and presentations for NaviNet and health insurance plans to showcase how health providers were using different software products.\n",
      "Student Researcher\n",
      "Dickinson College Chemistry Department - Carlisle PA - March 2015 to May 2015\n",
      " \n",
      "Professor Mike Holden's interests are in the area of organotransitionmetal-mediated synthesis of organic compounds. In his lab I worked to synthesize\n",
      "known biologically active compounds with the incorporation of ferrocene (an iron compound) to potentially boost efficacy of antimalarials.\n",
      "Student Researcher\n",
      "Ben-Gurion University of the Negev Jacob Blaustein Institute for Desert Research - Midreshet Israel - November 2014 to January 2015\n",
      "Species adapted to fasting sequentially oxidize fuels in three discrete phases. Professor Berry Pinshow's lab is exploring the physiological\n",
      "responses to food deprivation in House and Spanish sparrows (birds not adapted to prolonged fasting). For two months I helped prepare dietary isotopic tracers run 32 hour-long experiments requiring hourly measurements for stable isotope signatures in real-time using a 13C-infrared analyzer (HeliFANplus) and interpret collected data using repeated measures (RM)-ANOVA.\n",
      "Paper: Khalilieh A McCue MD Pinshow B. Physiological responses to food deprivation in the house sparrow a species not adapted to prolonged fasting. Am J Physiol Regul Integr Comp Physiol. 303: R551-R561 2012.\n",
      "EDUCATION\n",
      "BS in Biochemistry and Molecular Biology\n",
      "Dickinson College - Carlisle PA 2012 to 2016\n",
      "SKILLS\n",
      "NMR LCMS HPLC qPCR Gel Electrophoresis Western Blot Transfection various microscopy techniques (DIC Phase Contrast Brightfield Darkfield Fluorescent) recombinant DNA Plasmid Cloning Pymol CRISPR Cas9\n",
      "LINKS http://blogs.dickinson.edu/writingsciencenewssp14/author/schwaral\n",
      "AWARDS\n",
      "Cum Laude for BS in Biochemistry and Molecular Biology\n",
      "May 2016\n",
      "Maintained an overall GPA of >3.50 throughout my time at Dickinson College.\n",
      " \n"
     ]
    }
   ],
   "source": [
    "print(resume_df['resume_text_pp'][3])"
   ]
  },
  {
   "cell_type": "code",
   "execution_count": 104,
   "metadata": {},
   "outputs": [],
   "source": [
    "s1 = r'EDUCATION AAS in Visual Arts \\n Westchester Community College - New York NY School knowledge'\n",
    "s2 = r'EDUCATION Bachelors in Business Technology and Management \\nVermont Technical College'\n",
    "s3 = r'EDUCATION BS in Biochemistry and Molecular Biology \\nDickinson College - Carlisle PA 2012 to 2016'"
   ]
  },
  {
   "cell_type": "code",
   "execution_count": 105,
   "metadata": {},
   "outputs": [],
   "source": [
    "nlp = spacy.load('en_core_web_sm')"
   ]
  },
  {
   "cell_type": "code",
   "execution_count": 132,
   "metadata": {},
   "outputs": [],
   "source": [
    "doc = nlp(s1)"
   ]
  },
  {
   "cell_type": "code",
   "execution_count": 133,
   "metadata": {},
   "outputs": [
    {
     "name": "stdout",
     "output_type": "stream",
     "text": [
      "EDUCATION   compound   PROPN\n",
      "AAS   ROOT   PROPN\n",
      "in   prep   ADP\n",
      "Visual   compound   ADJ\n",
      "Arts   compound   NOUN\n",
      "\\n   pobj   SPACE\n",
      "Westchester   compound   PROPN\n",
      "Community   compound   PROPN\n",
      "College   compound   PROPN\n",
      "-   punct   PUNCT\n",
      "New   compound   PROPN\n",
      "York   compound   PROPN\n",
      "NY   compound   PROPN\n",
      "School   compound   PROPN\n",
      "knowledge   ROOT   NOUN\n"
     ]
    }
   ],
   "source": [
    "for tok in doc:\n",
    "    print(tok.text, \" \", tok.dep_, \" \", tok.pos_)"
   ]
  },
  {
   "cell_type": "code",
   "execution_count": 134,
   "metadata": {},
   "outputs": [
    {
     "data": {
      "text/plain": [
       "()"
      ]
     },
     "execution_count": 134,
     "metadata": {},
     "output_type": "execute_result"
    }
   ],
   "source": [
    "doc.ents"
   ]
  },
  {
   "cell_type": "code",
   "execution_count": 135,
   "metadata": {},
   "outputs": [],
   "source": [
    "### Rule-based information extraction \n",
    "pattern = [\n",
    "    {'TEXT': 'EDUCATION'}, \n",
    "    {'TEXT':  {\"REGEX\": \"(Bachelors)|(Masters)|([A-Za-z.]+)\"}}, \n",
    "    {'POS': \"ADP\"}, \n",
    "    {'IS_TITLE': True, \"OP\":'+'},\n",
    "    {'TEXT': \"and\", \"OP\":\"?\"}, \n",
    "    {'IS_TITLE': True, \"OP\":'+'}    \n",
    "]"
   ]
  },
  {
   "cell_type": "code",
   "execution_count": 136,
   "metadata": {},
   "outputs": [],
   "source": [
    "matcher = Matcher(nlp.vocab, validate=True)\n",
    "matcher.add(\"match1\", None, pattern)"
   ]
  },
  {
   "cell_type": "code",
   "execution_count": 137,
   "metadata": {},
   "outputs": [],
   "source": [
    "matches = matcher(doc)"
   ]
  },
  {
   "cell_type": "code",
   "execution_count": 138,
   "metadata": {},
   "outputs": [
    {
     "data": {
      "text/plain": [
       "[(12981744483764759145, 0, 5)]"
      ]
     },
     "execution_count": 138,
     "metadata": {},
     "output_type": "execute_result"
    }
   ],
   "source": [
    "matches"
   ]
  },
  {
   "cell_type": "code",
   "execution_count": 140,
   "metadata": {},
   "outputs": [
    {
     "data": {
      "text/plain": [
       "EDUCATION AAS in Visual Arts"
      ]
     },
     "execution_count": 140,
     "metadata": {},
     "output_type": "execute_result"
    }
   ],
   "source": [
    "doc[matches[0][1]:matches[0][2]]"
   ]
  }
 ],
 "metadata": {
  "kernelspec": {
   "display_name": "Python 3",
   "language": "python",
   "name": "python3"
  },
  "language_info": {
   "codemirror_mode": {
    "name": "ipython",
    "version": 3
   },
   "file_extension": ".py",
   "mimetype": "text/x-python",
   "name": "python",
   "nbconvert_exporter": "python",
   "pygments_lexer": "ipython3",
   "version": "3.7.6"
  }
 },
 "nbformat": 4,
 "nbformat_minor": 4
}
